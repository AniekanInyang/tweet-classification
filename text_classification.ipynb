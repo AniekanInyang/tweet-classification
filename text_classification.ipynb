{
 "cells": [
  {
   "cell_type": "code",
   "execution_count": 1,
   "metadata": {},
   "outputs": [],
   "source": [
    "import pandas as pd"
   ]
  },
  {
   "cell_type": "code",
   "execution_count": 2,
   "metadata": {},
   "outputs": [],
   "source": [
    "# Read datasets into pandas dataframes\n",
    "train_df = pd.read_csv('train.csv')\n",
    "test_df = pd.read_csv('test.csv')"
   ]
  },
  {
   "cell_type": "code",
   "execution_count": 3,
   "metadata": {},
   "outputs": [
    {
     "data": {
      "text/html": [
       "<div>\n",
       "<style scoped>\n",
       "    .dataframe tbody tr th:only-of-type {\n",
       "        vertical-align: middle;\n",
       "    }\n",
       "\n",
       "    .dataframe tbody tr th {\n",
       "        vertical-align: top;\n",
       "    }\n",
       "\n",
       "    .dataframe thead th {\n",
       "        text-align: right;\n",
       "    }\n",
       "</style>\n",
       "<table border=\"1\" class=\"dataframe\">\n",
       "  <thead>\n",
       "    <tr style=\"text-align: right;\">\n",
       "      <th></th>\n",
       "      <th>id</th>\n",
       "      <th>keyword</th>\n",
       "      <th>location</th>\n",
       "      <th>text</th>\n",
       "      <th>target</th>\n",
       "    </tr>\n",
       "  </thead>\n",
       "  <tbody>\n",
       "    <tr>\n",
       "      <th>0</th>\n",
       "      <td>1</td>\n",
       "      <td>NaN</td>\n",
       "      <td>NaN</td>\n",
       "      <td>Our Deeds are the Reason of this #earthquake M...</td>\n",
       "      <td>1</td>\n",
       "    </tr>\n",
       "    <tr>\n",
       "      <th>1</th>\n",
       "      <td>4</td>\n",
       "      <td>NaN</td>\n",
       "      <td>NaN</td>\n",
       "      <td>Forest fire near La Ronge Sask. Canada</td>\n",
       "      <td>1</td>\n",
       "    </tr>\n",
       "    <tr>\n",
       "      <th>2</th>\n",
       "      <td>5</td>\n",
       "      <td>NaN</td>\n",
       "      <td>NaN</td>\n",
       "      <td>All residents asked to 'shelter in place' are ...</td>\n",
       "      <td>1</td>\n",
       "    </tr>\n",
       "    <tr>\n",
       "      <th>3</th>\n",
       "      <td>6</td>\n",
       "      <td>NaN</td>\n",
       "      <td>NaN</td>\n",
       "      <td>13,000 people receive #wildfires evacuation or...</td>\n",
       "      <td>1</td>\n",
       "    </tr>\n",
       "    <tr>\n",
       "      <th>4</th>\n",
       "      <td>7</td>\n",
       "      <td>NaN</td>\n",
       "      <td>NaN</td>\n",
       "      <td>Just got sent this photo from Ruby #Alaska as ...</td>\n",
       "      <td>1</td>\n",
       "    </tr>\n",
       "  </tbody>\n",
       "</table>\n",
       "</div>"
      ],
      "text/plain": [
       "   id keyword location                                               text  \\\n",
       "0   1     NaN      NaN  Our Deeds are the Reason of this #earthquake M...   \n",
       "1   4     NaN      NaN             Forest fire near La Ronge Sask. Canada   \n",
       "2   5     NaN      NaN  All residents asked to 'shelter in place' are ...   \n",
       "3   6     NaN      NaN  13,000 people receive #wildfires evacuation or...   \n",
       "4   7     NaN      NaN  Just got sent this photo from Ruby #Alaska as ...   \n",
       "\n",
       "   target  \n",
       "0       1  \n",
       "1       1  \n",
       "2       1  \n",
       "3       1  \n",
       "4       1  "
      ]
     },
     "execution_count": 3,
     "metadata": {},
     "output_type": "execute_result"
    }
   ],
   "source": [
    "train_df.head()"
   ]
  },
  {
   "cell_type": "code",
   "execution_count": 4,
   "metadata": {},
   "outputs": [
    {
     "name": "stdout",
     "output_type": "stream",
     "text": [
      "221 values of keyword column: [nan 'ablaze' 'accident' 'aftershock' 'airplane%20accident' 'ambulance'\n",
      " 'annihilated' 'annihilation' 'apocalypse' 'armageddon' 'army' 'arson'\n",
      " 'arsonist' 'attack' 'attacked' 'avalanche' 'battle' 'bioterror'\n",
      " 'bioterrorism' 'blaze' 'blazing' 'bleeding' 'blew%20up' 'blight'\n",
      " 'blizzard' 'blood' 'bloody' 'blown%20up' 'body%20bag' 'body%20bagging'\n",
      " 'body%20bags' 'bomb' 'bombed' 'bombing' 'bridge%20collapse'\n",
      " 'buildings%20burning' 'buildings%20on%20fire' 'burned' 'burning'\n",
      " 'burning%20buildings' 'bush%20fires' 'casualties' 'casualty'\n",
      " 'catastrophe' 'catastrophic' 'chemical%20emergency' 'cliff%20fall'\n",
      " 'collapse' 'collapsed' 'collide' 'collided' 'collision' 'crash' 'crashed'\n",
      " 'crush' 'crushed' 'curfew' 'cyclone' 'damage' 'danger' 'dead' 'death'\n",
      " 'deaths' 'debris' 'deluge' 'deluged' 'demolish' 'demolished' 'demolition'\n",
      " 'derail' 'derailed' 'derailment' 'desolate' 'desolation' 'destroy'\n",
      " 'destroyed' 'destruction' 'detonate' 'detonation' 'devastated'\n",
      " 'devastation' 'disaster' 'displaced' 'drought' 'drown' 'drowned'\n",
      " 'drowning' 'dust%20storm' 'earthquake' 'electrocute' 'electrocuted'\n",
      " 'emergency' 'emergency%20plan' 'emergency%20services' 'engulfed'\n",
      " 'epicentre' 'evacuate' 'evacuated' 'evacuation' 'explode' 'exploded'\n",
      " 'explosion' 'eyewitness' 'famine' 'fatal' 'fatalities' 'fatality' 'fear'\n",
      " 'fire' 'fire%20truck' 'first%20responders' 'flames' 'flattened' 'flood'\n",
      " 'flooding' 'floods' 'forest%20fire' 'forest%20fires' 'hail' 'hailstorm'\n",
      " 'harm' 'hazard' 'hazardous' 'heat%20wave' 'hellfire' 'hijack' 'hijacker'\n",
      " 'hijacking' 'hostage' 'hostages' 'hurricane' 'injured' 'injuries'\n",
      " 'injury' 'inundated' 'inundation' 'landslide' 'lava' 'lightning'\n",
      " 'loud%20bang' 'mass%20murder' 'mass%20murderer' 'massacre' 'mayhem'\n",
      " 'meltdown' 'military' 'mudslide' 'natural%20disaster'\n",
      " 'nuclear%20disaster' 'nuclear%20reactor' 'obliterate' 'obliterated'\n",
      " 'obliteration' 'oil%20spill' 'outbreak' 'pandemonium' 'panic' 'panicking'\n",
      " 'police' 'quarantine' 'quarantined' 'radiation%20emergency' 'rainstorm'\n",
      " 'razed' 'refugees' 'rescue' 'rescued' 'rescuers' 'riot' 'rioting'\n",
      " 'rubble' 'ruin' 'sandstorm' 'screamed' 'screaming' 'screams' 'seismic'\n",
      " 'sinkhole' 'sinking' 'siren' 'sirens' 'smoke' 'snowstorm' 'storm'\n",
      " 'stretcher' 'structural%20failure' 'suicide%20bomb' 'suicide%20bomber'\n",
      " 'suicide%20bombing' 'sunk' 'survive' 'survived' 'survivors' 'terrorism'\n",
      " 'terrorist' 'threat' 'thunder' 'thunderstorm' 'tornado' 'tragedy'\n",
      " 'trapped' 'trauma' 'traumatised' 'trouble' 'tsunami' 'twister' 'typhoon'\n",
      " 'upheaval' 'violent%20storm' 'volcano' 'war%20zone' 'weapon' 'weapons'\n",
      " 'whirlwind' 'wild%20fires' 'wildfire' 'windstorm' 'wounded' 'wounds'\n",
      " 'wreck' 'wreckage' 'wrecked'] \n",
      " \n",
      "3341 values of location column: [nan 'Birmingham' 'Est. September 2012 - Bristol' ... 'Vancouver, Canada'\n",
      " 'London ' 'Lincoln'] \n",
      " \n"
     ]
    }
   ],
   "source": [
    "# See unique values in keyword and location columns to have an idea about the data\n",
    "for col in train_df.columns[1:len(train_df.columns)-2]:\n",
    "    print('{} values of {} column: {} \\n '.format(len(train_df[col].value_counts()), col, train_df[col].unique()))"
   ]
  },
  {
   "cell_type": "code",
   "execution_count": 5,
   "metadata": {},
   "outputs": [],
   "source": [
    "# Get list of keywords with their count of fake disaster tweets, sort the list in descending order\n",
    "keywords= [(i, len(train_df[(train_df['keyword']==i) & (train_df['target']==0)])) for i in train_df['keyword'].unique()]\n",
    "keywords.sort(key = lambda x: x[1], reverse=True) "
   ]
  },
  {
   "cell_type": "code",
   "execution_count": 6,
   "metadata": {},
   "outputs": [
    {
     "data": {
      "image/png": "[encoded data removed]",
      "text/plain": [
       "<Figure size 792x288 with 1 Axes>"
      ]
     },
     "metadata": {
      "needs_background": "light"
     },
     "output_type": "display_data"
    }
   ],
   "source": [
    "# Plot bar graph of keywords with the most fake disaster tweets\n",
    "x, y = (zip(*keywords))\n",
    "\n",
    "x = [str(i) for i in (x)][:10]\n",
    "y = [int(i) for i in (y)][:10]\n",
    "\n",
    "import matplotlib.pyplot as plt\n",
    "\n",
    "fig = plt.figure(figsize=(11,4))\n",
    "ax = fig.add_axes([0,0,1,1])\n",
    "\n",
    "ax.bar(x,y, width=0.6, color='#DC143C')\n",
    "plt.show()"
   ]
  },
  {
   "cell_type": "code",
   "execution_count": 7,
   "metadata": {},
   "outputs": [],
   "source": [
    "import nltk\n",
    "from nltk.tokenize import word_tokenize\n",
    "from nltk.corpus import stopwords"
   ]
  },
  {
   "cell_type": "code",
   "execution_count": 8,
   "metadata": {},
   "outputs": [
    {
     "name": "stderr",
     "output_type": "stream",
     "text": [
      "[nltk_data] Downloading package stopwords to\n",
      "[nltk_data]     /Users/aniekan/nltk_data...\n",
      "[nltk_data]   Package stopwords is already up-to-date!\n",
      "[nltk_data] Downloading package punkt to /Users/aniekan/nltk_data...\n",
      "[nltk_data]   Package punkt is already up-to-date!\n"
     ]
    },
    {
     "data": {
      "text/plain": [
       "True"
      ]
     },
     "execution_count": 8,
     "metadata": {},
     "output_type": "execute_result"
    }
   ],
   "source": [
    "# download list of stopwords (only once; need not run it again)\n",
    "\n",
    "nltk.download(\"stopwords\")\n",
    "nltk.download('punkt')"
   ]
  },
  {
   "cell_type": "code",
   "execution_count": 9,
   "metadata": {},
   "outputs": [],
   "source": [
    "stop_words = set(stopwords.words('english'))\n",
    "import regex as re\n",
    "import gensim\n",
    "from gensim.utils import simple_preprocess\n",
    "from gensim.parsing.preprocessing import STOPWORDS\n",
    "from nltk.stem.porter import PorterStemmer\n",
    "from nltk.stem import WordNetLemmatizer, SnowballStemmer\n",
    "\n",
    "# Function to preprocess data with Gensim\n",
    "def preprocess_gensim(text):\n",
    "    # Remove non-alphanumeric characters from data\n",
    "    text = [re.sub(r'[^a-zA-Z0-9]', ' ', text) for text in text]\n",
    "    \n",
    "    # Lemmatize, stem and tokenize words in the dataset, removing stopwords\n",
    "    text = [(PorterStemmer().stem(WordNetLemmatizer(). lemmatize(w, pos='v')) )for w in text]\n",
    "    result = [[token for token in gensim.utils.simple_preprocess(sentence) if not token in \n",
    "              gensim.parsing.preprocessing.STOPWORDS and len(token) > 3] for sentence in text]\n",
    "    return result"
   ]
  },
  {
   "cell_type": "code",
   "execution_count": 10,
   "metadata": {},
   "outputs": [
    {
     "name": "stdout",
     "output_type": "stream",
     "text": [
      "NTLK stopwords: {'there', 'can', 'shan', 'that', 'now', 'yourself', 'themselves', 'any', 'ain', 'because', 'shouldn', 'between', 'so', 'wasn', 'from', 'while', 'ma', \"should've\", 'these', 'again', 'at', 'be', 'y', 'some', 'himself', 'each', 'hadn', 'couldn', \"she's\", \"you'll\", 'few', 'about', 'd', 'needn', 'isn', 'other', \"mustn't\", 'does', 'is', 'theirs', 'his', 'to', 'here', 'haven', 'ours', 'we', 'yourselves', 'as', \"you'd\", 'its', 'into', 'below', 'yours', 'further', \"mightn't\", \"needn't\", 'me', 'did', 'on', 'don', \"you're\", 'herself', 'weren', 'won', 'were', 'the', 'nor', 've', 'not', 'once', 'you', 'off', 'itself', 'has', \"won't\", 'such', 'down', 'they', 'than', 'mightn', 'those', 'under', 'been', 'myself', 'and', 'wouldn', 'them', 'during', 'your', 'do', \"that'll\", 'had', \"haven't\", 'her', 'both', \"isn't\", 'hasn', 'where', 'in', 'o', 'of', \"shan't\", 'same', 'what', 'but', 'only', 'over', 'it', 'him', 'until', \"hasn't\", \"shouldn't\", 'i', 'was', 'if', \"doesn't\", 'most', \"couldn't\", 'our', 'll', 'no', 'are', \"you've\", 'with', 'too', \"wouldn't\", 'this', 'why', 'after', 'didn', 'm', 'by', \"wasn't\", 'having', 'a', 'should', 'just', 'own', 'all', 'before', 'doesn', 'he', 'hers', 'then', 'when', 'more', 'mustn', \"weren't\", 're', 'will', 'am', 'above', 'which', 'an', 'doing', 'their', 'have', 'out', 'how', 'who', \"aren't\", \"hadn't\", \"didn't\", 'for', 'through', \"it's\", \"don't\", 'aren', 'up', 'ourselves', 'whom', 't', 'my', 'being', 'against', 'she', 's', 'or', 'very'} \n",
      " \n",
      " \n",
      " Gensim stopwords: frozenset({'amoungst', 'ever', 'often', 'because', 'see', 'between', 'so', 'perhaps', 'among', 'cant', 'forty', 'also', 'himself', 'thus', 'few', 'name', 'rather', 'does', 'yourselves', 'empty', 'twenty', 'yours', 'me', 'did', 'first', 'anyway', 'describe', 'nor', 'us', 'found', 'please', 'show', 'those', 'many', 'etc', 'least', 'eleven', 'therefore', 'hereafter', 'during', 'yet', 'whereupon', 'find', 'everyone', 'someone', 'though', 'what', 'well', 'but', 'three', 'regarding', 'sixty', 'it', 'everything', 'i', 'per', 'really', 'onto', 'without', 'our', 'something', 'should', 'a', 'thin', 'just', 'still', 'put', 'doesn', 'when', 'he', 'across', 'although', 're', 'six', 'amongst', 'which', 'hence', 'whereafter', 'cry', 'ourselves', 'done', 'sometimes', 'she', 'hereby', 'sometime', 'very', 'there', 'namely', 'now', 'yourself', 'themselves', 'moreover', 'from', 'using', 'unless', 'co', 'some', 'each', 'every', 'enough', 'nothing', 'must', 'computer', 'mill', 'his', 'cannot', 'we', 'serious', 'since', 'call', 'below', 'on', 'bottom', 'seemed', 'wherever', 'becoming', 'whereas', 'move', 'fifty', 'becomes', 'within', 'towards', 'down', 'thick', 'meanwhile', 'beyond', 'get', 'your', 'may', 'had', 'amount', 'sincere', 'made', 'where', 'in', 'whatever', 'over', 'if', 'most', 'either', 'along', 'became', 'back', 'no', 'beside', 'several', 'one', 'always', 'why', 'ie', 'indeed', 'much', 'full', 'hers', 'then', 'alone', 'am', 'above', 'an', 'their', 'out', 'through', 'fire', 'nowhere', 'de', 'my', 'nine', 'give', 'being', 'un', 'quite', 'seem', 'eg', 'that', 'any', 'less', 'side', 'part', 'these', 'noone', 'nevertheless', 'at', 'say', 'seems', 'five', 'is', 'become', 'to', 'seeming', 'here', 'make', 'would', 'as', 'further', 'herself', 'hasnt', 'therein', 'never', 'the', 'once', 'itself', 'has', 'whenever', 'such', 'via', 'inc', 'under', 'myself', 'formerly', 'and', 'ten', 'them', 'her', 'both', 'couldnt', 'everywhere', 'wherein', 'besides', 'of', 'same', 'only', 'two', 'him', 'was', 'throughout', 'last', 'are', 'with', 'by', 'former', 'afterwards', 'whoever', 'somewhere', 'however', 'kg', 'all', 'twelve', 'before', 'more', 'whether', 'thereby', 'might', 'have', 'system', 'fifteen', 'for', 'whither', 'anywhere', 'beforehand', 'used', 'front', 'thru', 'four', 'next', 'against', 'or', 'can', 'third', 'thereafter', 'hundred', 'except', 'various', 'somehow', 'ltd', 'latter', 'take', 'while', 'again', 'be', 'herein', 'whole', 'almost', 'about', 'other', 'ours', 'already', 'its', 'into', 'anything', 'even', 'top', 'don', 'were', 'not', 'thence', 'you', 'off', 'fill', 'could', 'they', 'around', 'than', 'been', 'toward', 'eight', 'upon', 'do', 'whose', 'go', 'elsewhere', 'whence', 'until', 'mine', 'thereupon', 'latterly', 'behind', 'whereby', 'interest', 'otherwise', 'too', 'this', 'after', 'didn', 'km', 'nobody', 'hereupon', 'due', 'own', 'else', 'anyhow', 'will', 'none', 'bill', 'others', 'doing', 'mostly', 'how', 'who', 'another', 'detail', 'up', 'together', 'whom', 'con', 'neither', 'keep', 'anyone'})\n"
     ]
    }
   ],
   "source": [
    "# NTLK stopwords vs. Gensim stopwords\n",
    "print('NTLK stopwords: {} \\n \\n \\n Gensim stopwords: {}'.format(stop_words, gensim.parsing.preprocessing.STOPWORDS))"
   ]
  },
  {
   "cell_type": "code",
   "execution_count": 11,
   "metadata": {},
   "outputs": [
    {
     "data": {
      "image/png": "[encoded data removed]",
      "text/plain": [
       "<Figure size 432x288 with 1 Axes>"
      ]
     },
     "metadata": {
      "needs_background": "light"
     },
     "output_type": "display_data"
    }
   ],
   "source": [
    "from wordcloud import WordCloud, STOPWORDS\n",
    "\n",
    "# Adding more stopwords unique to the data to the WordCloud stopwords list\n",
    "additional_wordcloud_stopwords = ['http', 'https', 'co', 'amp', 'you', 'to', 'us', 'will']\n",
    "\n",
    "#Create a WordCloud of real disaster tweets\n",
    "real_data = train_df[train_df['target'] == 1]\n",
    "combined_real_data = real_data['text'].tolist()\n",
    "combined_real_data = [re.sub(r'[^a-zA-Z0-9]', ' ', text) for text in combined_real_data]\n",
    "combined_real_data = \" \".join([review for review in combined_real_data])\n",
    "\n",
    "wc = WordCloud(background_color='white', max_words=50,\n",
    "              stopwords=STOPWORDS.update(additional_wordcloud_stopwords))\n",
    "\n",
    "plt.imshow(wc.generate(combined_real_data))\n",
    "plt.axis('off')\n",
    "plt.show()"
   ]
  },
  {
   "cell_type": "code",
   "execution_count": 12,
   "metadata": {},
   "outputs": [
    {
     "data": {
      "image/png": "[encoded data removed]",
      "text/plain": [
       "<Figure size 432x288 with 1 Axes>"
      ]
     },
     "metadata": {
      "needs_background": "light"
     },
     "output_type": "display_data"
    }
   ],
   "source": [
    "#Create a WordCloud of fake disaster tweets\n",
    "fake_data = train_df[train_df['target'] == 0]\n",
    "combined_fake_data = fake_data['text'].tolist()\n",
    "combined_fake_data = [re.sub(r'[^a-zA-Z0-9]', ' ', text) for text in combined_fake_data]\n",
    "combined_fake_data = \" \".join([review for review in combined_fake_data])\n",
    "\n",
    "wc = WordCloud(background_color='white', max_words=50,\n",
    "              stopwords=STOPWORDS.update(additional_wordcloud_stopwords))\n",
    "\n",
    "plt.imshow(wc.generate(combined_fake_data))\n",
    "plt.axis('off')\n",
    "plt.show()"
   ]
  },
  {
   "cell_type": "code",
   "execution_count": 13,
   "metadata": {},
   "outputs": [],
   "source": [
    "from sklearn.model_selection import train_test_split\n",
    "\n",
    "#Split data into train and test data\n",
    "X_train, X_test, y_train, y_test = train_test_split(train_df['text'].to_list(), train_df['target'].to_list(),\n",
    "                                                    random_state=0)\n",
    "# Carry out preprocessing on text data\n",
    "words_train, words_test = preprocess_gensim(X_train), preprocess_gensim(X_test)"
   ]
  },
  {
   "cell_type": "code",
   "execution_count": 14,
   "metadata": {},
   "outputs": [],
   "source": [
    "from sklearn.feature_extraction.text import CountVectorizer\n",
    "\n",
    "# Extract Bag-of-Words (BoW)\n",
    "vectorizer = CountVectorizer(preprocessor=lambda x: x, tokenizer=lambda x: x)\n",
    "features_train = vectorizer.fit_transform(words_train).toarray()\n",
    "\n",
    "features_test = vectorizer.transform(words_test).toarray()\n",
    "\n",
    "# Create a vocabulary from the dataset\n",
    "vocabulary = vectorizer.vocabulary_"
   ]
  },
  {
   "cell_type": "code",
   "execution_count": 15,
   "metadata": {},
   "outputs": [
    {
     "name": "stdout",
     "output_type": "stream",
     "text": [
      "Vocabulary: 15699 words\n",
      "Sample words: ['jackperu', 'iniqzfyioi', 'dreamer', 'otrwz', 'glenn', 'funny', 'swear', 'parksboardfacts']\n",
      "\n",
      "\n",
      "[0 0 0 ... 0 0 0]\n",
      "[0 0 0 ... 0 0 0]\n"
     ]
    }
   ],
   "source": [
    "import random\n",
    "\n",
    "# View random words in the vocabulary and confirm BoW representation of train and test data\n",
    "print(\"Vocabulary: {} words\".format(len(vocabulary)))\n",
    "print(\"Sample words: {}\".format(random.sample(list(vocabulary.keys()), 8)))\n",
    "print('\\n')\n",
    "print(features_train[0])\n",
    "print(features_test[0])"
   ]
  },
  {
   "cell_type": "code",
   "execution_count": 16,
   "metadata": {},
   "outputs": [
    {
     "data": {
      "text/plain": [
       "\"\\nZipf's law\\nZipf's law, named after the famous American linguist George Zipf, \\nis an empirical law stating that given a large collection of documents, \\nthe frequency of any word is inversely proportional to its rank in the frequency table. \\nIn the figure below we plot number of appearances of each word in our training set against its rank.\\n\""
      ]
     },
     "execution_count": 16,
     "metadata": {},
     "output_type": "execute_result"
    }
   ],
   "source": [
    "'''\n",
    "Zipf's law\n",
    "Zipf's law, named after the famous American linguist George Zipf, \n",
    "is an empirical law stating that given a large collection of documents, \n",
    "the frequency of any word is inversely proportional to its rank in the frequency table. \n",
    "In the figure below we plot number of appearances of each word in our training set against its rank.\n",
    "'''"
   ]
  },
  {
   "cell_type": "code",
   "execution_count": 17,
   "metadata": {},
   "outputs": [
    {
     "data": {
      "image/png": "[encoded data removed]",
      "text/plain": [
       "<Figure size 432x288 with 1 Axes>"
      ]
     },
     "metadata": {
      "needs_background": "light"
     },
     "output_type": "display_data"
    }
   ],
   "source": [
    "import numpy as np\n",
    "\n",
    "# Find number of occurrences for each word in the training set\n",
    "word_freq = features_train.sum(axis=0)\n",
    "\n",
    "# Sort it in descending order\n",
    "sorted_word_freq = np.sort(word_freq)[::-1]\n",
    "\n",
    "# Plot \n",
    "plt.plot(sorted_word_freq)\n",
    "plt.gca().set_xscale('log')\n",
    "plt.gca().set_yscale('log')\n",
    "plt.xlabel('Rank')\n",
    "plt.ylabel('Number of occurrences')\n",
    "plt.show()"
   ]
  },
  {
   "cell_type": "code",
   "execution_count": 18,
   "metadata": {},
   "outputs": [],
   "source": [
    "import sklearn.preprocessing as pr\n",
    "\n",
    "# Normalize BoW features in training and test set\n",
    "features_train = pr.normalize(features_train, axis=0)\n",
    "features_test = pr.normalize(features_test, axis=0)"
   ]
  },
  {
   "cell_type": "code",
   "execution_count": 19,
   "metadata": {},
   "outputs": [
    {
     "name": "stdout",
     "output_type": "stream",
     "text": [
      "[GaussianNB] Accuracy: train = 0.9525310912594149, test = 0.6113445378151261\n"
     ]
    }
   ],
   "source": [
    "from sklearn.naive_bayes import GaussianNB\n",
    "\n",
    "# Train a Guassian Naive Bayes classifier\n",
    "nb = GaussianNB()\n",
    "\n",
    "nb.fit(features_train, y_train)\n",
    "\n",
    "# Calculate the mean accuracy score on training and test sets\n",
    "print(\"[{}] Accuracy: train = {}, test = {}\".format(\n",
    "        nb.__class__.__name__,\n",
    "        nb.score(features_train, y_train),\n",
    "        nb.score(features_test, y_test)))\n"
   ]
  },
  {
   "cell_type": "code",
   "execution_count": 20,
   "metadata": {},
   "outputs": [
    {
     "name": "stderr",
     "output_type": "stream",
     "text": [
      "[Parallel(n_jobs=1)]: Using backend SequentialBackend with 1 concurrent workers.\n",
      "[Parallel(n_jobs=1)]: Done   1 out of   1 | elapsed:  1.6min remaining:    0.0s\n",
      "[Parallel(n_jobs=1)]: Done   2 out of   2 | elapsed:  3.5min remaining:    0.0s\n",
      "[Parallel(n_jobs=1)]: Done   5 out of   5 | elapsed:  8.6min finished\n"
     ]
    },
    {
     "name": "stdout",
     "output_type": "stream",
     "text": [
      "[LogisticRegressionCV] Accuracy: train = 0.9919425468558416, test = 0.7909663865546218\n"
     ]
    }
   ],
   "source": [
    "# Try Logistic Regression\n",
    "from sklearn.linear_model import LogisticRegressionCV\n",
    "\n",
    "logreg = LogisticRegressionCV(cv=5, scoring='accuracy', verbose=3, random_state=0, max_iter=1000)\n",
    "\n",
    "logreg.fit(features_train, y_train)\n",
    "\n",
    "print(\"[{}] Accuracy: train = {}, test = {}\".format(\n",
    "        logreg.__class__.__name__,\n",
    "        logreg.score(features_train, y_train),\n",
    "        logreg.score(features_test, y_test)))"
   ]
  },
  {
   "cell_type": "code",
   "execution_count": 21,
   "metadata": {},
   "outputs": [
    {
     "name": "stdout",
     "output_type": "stream",
     "text": [
      "Accuracy of the GBM on training set: 0.640\n",
      "Accuracy of the GBM on test set: 0.666\n"
     ]
    }
   ],
   "source": [
    "from sklearn.ensemble import GradientBoostingClassifier\n",
    "\n",
    "gbc = GradientBoostingClassifier(n_estimators=5, learning_rate=1.0, max_depth=1, random_state=0)\n",
    "gbc.fit(features_train, y_train)\n",
    "\n",
    "print('Accuracy of the GBM on training set: {:.3f}'.format(gbc.score(features_train, y_train)))\n",
    "print('Accuracy of the GBM on test set: {0:.3f}'.format(gbc.score(features_test, y_test)))"
   ]
  },
  {
   "cell_type": "code",
   "execution_count": 22,
   "metadata": {},
   "outputs": [
    {
     "name": "stdout",
     "output_type": "stream",
     "text": [
      "Fitting 6 folds for each of 10 candidates, totalling 60 fits\n"
     ]
    },
    {
     "name": "stderr",
     "output_type": "stream",
     "text": [
      "[Parallel(n_jobs=1)]: Using backend SequentialBackend with 1 concurrent workers.\n",
      "[Parallel(n_jobs=1)]: Done  60 out of  60 | elapsed:  7.6min finished\n"
     ]
    }
   ],
   "source": [
    "from sklearn.model_selection import GridSearchCV\n",
    "from sklearn.model_selection import RepeatedStratifiedKFold\n",
    "\n",
    "params_NB = {'var_smoothing': np.logspace(0,-9, num=10)}\n",
    "cv_method = RepeatedStratifiedKFold(n_splits=2, \n",
    "                                    n_repeats=3, \n",
    "                                    random_state=0)\n",
    "\n",
    "gs_NB = GridSearchCV(estimator=nb, \n",
    "                     param_grid=params_NB, \n",
    "                     cv=cv_method,\n",
    "                     verbose=1, \n",
    "                     scoring='accuracy')\n",
    "\n",
    "\n",
    "gs_NB.fit(features_train, y_train);"
   ]
  },
  {
   "cell_type": "code",
   "execution_count": 23,
   "metadata": {},
   "outputs": [
    {
     "name": "stdout",
     "output_type": "stream",
     "text": [
      "{'var_smoothing': 0.01}\n",
      "0.6142350368242194\n"
     ]
    }
   ],
   "source": [
    "print(gs_NB.best_params_)\n",
    "print(gs_NB.best_score_)"
   ]
  },
  {
   "cell_type": "code",
   "execution_count": 24,
   "metadata": {},
   "outputs": [
    {
     "name": "stdout",
     "output_type": "stream",
     "text": [
      "Fitting 6 folds for each of 5 candidates, totalling 30 fits\n"
     ]
    },
    {
     "name": "stderr",
     "output_type": "stream",
     "text": [
      "[Parallel(n_jobs=4)]: Using backend LokyBackend with 4 concurrent workers.\n",
      "[Parallel(n_jobs=4)]: Done  30 out of  30 | elapsed:  8.2min finished\n"
     ]
    },
    {
     "name": "stdout",
     "output_type": "stream",
     "text": [
      "Best C: {'C': 100}\n"
     ]
    }
   ],
   "source": [
    "from scipy.stats import uniform\n",
    "from sklearn.linear_model import LogisticRegression\n",
    "\n",
    "\n",
    "logistic = LogisticRegression(solver='saga', tol=1e-2, max_iter=1000, random_state=0)\n",
    "hyperparameters = dict(C=uniform(loc=0, scale=4), penalty=['l2', 'l1'])\n",
    "param_grid = {'C': [100, 10, 1.0, 0.1, 0.01]}\n",
    "k = RepeatedStratifiedKFold(n_splits=2, n_repeats=3, random_state=0)\n",
    "\n",
    "grid = GridSearchCV(logistic, param_grid=param_grid, cv=k, n_jobs=4, verbose=1)\n",
    "grid.fit(features_train, y_train)\n",
    "\n",
    "print('Best C:', grid.best_params_)"
   ]
  },
  {
   "cell_type": "code",
   "execution_count": 25,
   "metadata": {},
   "outputs": [
    {
     "name": "stdout",
     "output_type": "stream",
     "text": [
      "Accuracy of the GridSearch on training set: 0.989\n",
      "Accuracy of the GridSearch on test set: 0.795\n"
     ]
    }
   ],
   "source": [
    "print('Accuracy of the GridSearch on training set: {:.3f}'.format(grid.score(features_train, y_train)))\n",
    "print('Accuracy of the GridSearch on test set: {0:.3f}'.format(grid.score(features_test, y_test)))"
   ]
  },
  {
   "cell_type": "code",
   "execution_count": 26,
   "metadata": {},
   "outputs": [
    {
     "name": "stderr",
     "output_type": "stream",
     "text": [
      "[Parallel(n_jobs=1)]: Using backend SequentialBackend with 1 concurrent workers.\n",
      "[Parallel(n_jobs=1)]: Done   1 out of   1 | elapsed:   43.8s remaining:    0.0s\n",
      "[Parallel(n_jobs=1)]: Done   2 out of   2 | elapsed:  1.5min remaining:    0.0s\n",
      "[Parallel(n_jobs=1)]: Done   5 out of   5 | elapsed:  3.9min finished\n",
      "[Parallel(n_jobs=1)]: Using backend SequentialBackend with 1 concurrent workers.\n",
      "[Parallel(n_jobs=1)]: Done   1 out of   1 | elapsed:   52.6s remaining:    0.0s\n",
      "[Parallel(n_jobs=1)]: Done   2 out of   2 | elapsed:  1.7min remaining:    0.0s\n",
      "[Parallel(n_jobs=1)]: Done   5 out of   5 | elapsed:  4.9min finished\n",
      "[Parallel(n_jobs=1)]: Using backend SequentialBackend with 1 concurrent workers.\n",
      "[Parallel(n_jobs=1)]: Done   1 out of   1 | elapsed:   56.5s remaining:    0.0s\n",
      "[Parallel(n_jobs=1)]: Done   2 out of   2 | elapsed:  2.0min remaining:    0.0s\n",
      "[Parallel(n_jobs=1)]: Done   5 out of   5 | elapsed:  5.4min finished\n"
     ]
    },
    {
     "name": "stdout",
     "output_type": "stream",
     "text": [
      "Fitting 6 folds for each of 5 candidates, totalling 30 fits\n"
     ]
    },
    {
     "name": "stderr",
     "output_type": "stream",
     "text": [
      "[Parallel(n_jobs=4)]: Using backend LokyBackend with 4 concurrent workers.\n",
      "[Parallel(n_jobs=4)]: Done  30 out of  30 | elapsed:  3.8min finished\n"
     ]
    },
    {
     "name": "stdout",
     "output_type": "stream",
     "text": [
      "Fitting 6 folds for each of 5 candidates, totalling 30 fits\n"
     ]
    },
    {
     "name": "stderr",
     "output_type": "stream",
     "text": [
      "[Parallel(n_jobs=4)]: Using backend LokyBackend with 4 concurrent workers.\n",
      "[Parallel(n_jobs=4)]: Done  30 out of  30 | elapsed:  4.8min finished\n"
     ]
    },
    {
     "name": "stdout",
     "output_type": "stream",
     "text": [
      "Fitting 6 folds for each of 5 candidates, totalling 30 fits\n"
     ]
    },
    {
     "name": "stderr",
     "output_type": "stream",
     "text": [
      "[Parallel(n_jobs=4)]: Using backend LokyBackend with 4 concurrent workers.\n",
      "[Parallel(n_jobs=4)]: Done  30 out of  30 | elapsed:  4.2min finished\n"
     ]
    }
   ],
   "source": [
    "from sklearn.model_selection import cross_val_score   #Additional scklearn functions\n",
    "\n",
    "cv_score1 = cross_val_score(gbc, features_train, y_train, cv=3, scoring='roc_auc')\n",
    "cv_score2 = cross_val_score(nb, features_train, y_train, cv=3, scoring='roc_auc')\n",
    "cv_score3 = cross_val_score(logreg, features_train, y_train, cv=3, scoring='roc_auc')\n",
    "cv_score4 = cross_val_score(grid, features_train, y_train, cv=3, scoring='roc_auc')"
   ]
  },
  {
   "cell_type": "code",
   "execution_count": 27,
   "metadata": {},
   "outputs": [
    {
     "name": "stdout",
     "output_type": "stream",
     "text": [
      "[0.67282791 0.66312475 0.6428226 ]\n",
      "[0.62348176 0.62625232 0.62875156]\n",
      "[0.81455557 0.82691516 0.82859388]\n",
      "[0.82217687 0.83236633 0.83160817]\n"
     ]
    }
   ],
   "source": [
    "print(cv_score1)\n",
    "print(cv_score2)\n",
    "print(cv_score3)\n",
    "print(cv_score4)"
   ]
  },
  {
   "cell_type": "code",
   "execution_count": 28,
   "metadata": {},
   "outputs": [
    {
     "name": "stdout",
     "output_type": "stream",
     "text": [
      "---Test Set Results---\n",
      "Accuracy with Gaussian: 0.6113445378151261\n",
      "Accuracy with Logistic regression: 0.7909663865546218\n",
      "Accuracy with tuned Logistic regression: 0.7951680672268907\n",
      "AUC Score with Gaussian: 0.6332622673780063\n",
      "AUC Score with Logistic regression: 0.7787740612663341\n",
      "AUC Score with tuned Logistic regression: 0.7827387935108963\n",
      "Gaussian \n",
      "               precision    recall  f1-score   support\n",
      "\n",
      "           0       0.75      0.50      0.60      1107\n",
      "           1       0.52      0.77      0.62       797\n",
      "\n",
      "    accuracy                           0.61      1904\n",
      "   macro avg       0.64      0.63      0.61      1904\n",
      "weighted avg       0.65      0.61      0.61      1904\n",
      "\n",
      "Logistic regression \n",
      "               precision    recall  f1-score   support\n",
      "\n",
      "           0       0.80      0.85      0.83      1107\n",
      "           1       0.78      0.70      0.74       797\n",
      "\n",
      "    accuracy                           0.79      1904\n",
      "   macro avg       0.79      0.78      0.78      1904\n",
      "weighted avg       0.79      0.79      0.79      1904\n",
      "\n",
      "Tuned Logistic regression \n",
      "               precision    recall  f1-score   support\n",
      "\n",
      "           0       0.80      0.86      0.83      1107\n",
      "           1       0.78      0.71      0.74       797\n",
      "\n",
      "    accuracy                           0.80      1904\n",
      "   macro avg       0.79      0.78      0.79      1904\n",
      "weighted avg       0.79      0.80      0.79      1904\n",
      "\n"
     ]
    }
   ],
   "source": [
    "from sklearn.metrics import classification_report, accuracy_score, roc_auc_score\n",
    "\n",
    "y_pred1 = nb.predict(features_test)\n",
    "y_pred2 = logreg.predict(features_test)\n",
    "y_pred3 = grid.predict(features_test)\n",
    "\n",
    "\n",
    "print(\"---Test Set Results---\")\n",
    "print(\"Accuracy with Gaussian: {}\".format(accuracy_score(y_test, y_pred1)))\n",
    "print(\"Accuracy with Logistic regression: {}\".format(accuracy_score(y_test, y_pred2)))\n",
    "print(\"Accuracy with tuned Logistic regression: {}\".format(accuracy_score(y_test, y_pred3)))\n",
    "\n",
    "print(\"AUC Score with Gaussian: {}\".format(roc_auc_score(y_test, y_pred1)))\n",
    "print(\"AUC Score with Logistic regression: {}\".format(roc_auc_score(y_test, y_pred2)))\n",
    "print(\"AUC Score with tuned Logistic regression: {}\".format(roc_auc_score(y_test, y_pred3)))\n",
    "\n",
    "\n",
    "print('Gaussian \\n {}'.format(classification_report(y_test, y_pred1)))\n",
    "print('Logistic regression \\n {}'.format(classification_report(y_test, y_pred2)))\n",
    "print('Tuned Logistic regression \\n {}'.format(classification_report(y_test, y_pred3)))"
   ]
  },
  {
   "cell_type": "code",
   "execution_count": 29,
   "metadata": {},
   "outputs": [],
   "source": [
    "test = test_df['text'].to_list()"
   ]
  },
  {
   "cell_type": "code",
   "execution_count": 30,
   "metadata": {},
   "outputs": [],
   "source": [
    "test = preprocess_gensim(test)"
   ]
  },
  {
   "cell_type": "code",
   "execution_count": 31,
   "metadata": {},
   "outputs": [],
   "source": [
    "test = vectorizer.transform(test).toarray()"
   ]
  },
  {
   "cell_type": "code",
   "execution_count": 32,
   "metadata": {},
   "outputs": [],
   "source": [
    "test_pred = grid.predict(test)"
   ]
  },
  {
   "cell_type": "code",
   "execution_count": 33,
   "metadata": {},
   "outputs": [
    {
     "data": {
      "text/plain": [
       "array([1, 1, 1, ..., 1, 1, 1])"
      ]
     },
     "execution_count": 33,
     "metadata": {},
     "output_type": "execute_result"
    }
   ],
   "source": [
    "test_pred"
   ]
  },
  {
   "cell_type": "code",
   "execution_count": 34,
   "metadata": {},
   "outputs": [
    {
     "name": "stderr",
     "output_type": "stream",
     "text": [
      "Using TensorFlow backend.\n"
     ]
    },
    {
     "name": "stdout",
     "output_type": "stream",
     "text": [
      "['electricity', 'stop', 'scofield', 'nigga', 'survived', 'hotbox', 'sona']\n"
     ]
    }
   ],
   "source": [
    "# Switch to RNNs\n",
    "\n",
    "from keras.preprocessing.text import Tokenizer\n",
    "\n",
    "tokenizer = Tokenizer(num_words=5000)\n",
    "tokenizer.fit_on_texts(words_train)\n",
    "\n",
    "X_train = tokenizer.texts_to_sequences(words_train)\n",
    "X_test = tokenizer.texts_to_sequences(words_test)\n",
    "\n",
    "vocabulary_size = len(tokenizer.word_index) + 1  # Adding 1 because of reserved 0 index\n",
    "\n",
    "print(words_train[2])"
   ]
  },
  {
   "cell_type": "code",
   "execution_count": 35,
   "metadata": {},
   "outputs": [
    {
     "name": "stdout",
     "output_type": "stream",
     "text": [
      "20\n"
     ]
    }
   ],
   "source": [
    "# Find the maximum number of words in a tweet\n",
    "\n",
    "max_length = 0\n",
    "for i,x in enumerate(words_train):\n",
    "    if len(words_train[i]) > max_length:\n",
    "        max_length = len(words_train[i])\n",
    "\n",
    "print(max_length)"
   ]
  },
  {
   "cell_type": "code",
   "execution_count": 36,
   "metadata": {},
   "outputs": [],
   "source": [
    "from keras.preprocessing.sequence import pad_sequences \n",
    "\n",
    "# Set the maximum number of words per document (for both training and testing) by padding sequences \n",
    "X_train = pad_sequences(X_train, padding='post', maxlen=max_length)\n",
    "X_test = pad_sequences(X_test, padding='post', maxlen=max_length)"
   ]
  },
  {
   "cell_type": "code",
   "execution_count": 37,
   "metadata": {},
   "outputs": [
    {
     "name": "stdout",
     "output_type": "stream",
     "text": [
      "Model: \"sequential_1\"\n",
      "_________________________________________________________________\n",
      "Layer (type)                 Output Shape              Param #   \n",
      "=================================================================\n",
      "embedding_1 (Embedding)      (None, 20, 50)            785000    \n",
      "_________________________________________________________________\n",
      "global_max_pooling1d_1 (Glob (None, 50)                0         \n",
      "_________________________________________________________________\n",
      "dense_1 (Dense)              (None, 10)                510       \n",
      "_________________________________________________________________\n",
      "dense_2 (Dense)              (None, 1)                 11        \n",
      "=================================================================\n",
      "Total params: 785,521\n",
      "Trainable params: 785,521\n",
      "Non-trainable params: 0\n",
      "_________________________________________________________________\n"
     ]
    }
   ],
   "source": [
    "from keras.models import Sequential\n",
    "from keras import layers\n",
    "\n",
    "embedding_dim = 50\n",
    "\n",
    "model = Sequential()\n",
    "model.add(layers.Embedding(input_dim=vocabulary_size, \n",
    "                           output_dim=embedding_dim, \n",
    "                           input_length=max_length))\n",
    "model.add(layers.GlobalMaxPool1D())\n",
    "model.add(layers.Dense(10, activation='relu'))\n",
    "model.add(layers.Dense(1, activation='sigmoid'))\n",
    "model.compile(optimizer='adam',\n",
    "              loss='binary_crossentropy',\n",
    "              metrics=['accuracy'])\n",
    "model.summary()"
   ]
  },
  {
   "cell_type": "code",
   "execution_count": 38,
   "metadata": {},
   "outputs": [
    {
     "name": "stderr",
     "output_type": "stream",
     "text": [
      "/usr/local/lib/python3.7/site-packages/tensorflow/python/framework/indexed_slices.py:434: UserWarning: Converting sparse IndexedSlices to a dense Tensor of unknown shape. This may consume a large amount of memory.\n",
      "  \"Converting sparse IndexedSlices to a dense Tensor of unknown shape. \"\n"
     ]
    },
    {
     "name": "stdout",
     "output_type": "stream",
     "text": [
      "Training Accuracy: 0.9821\n",
      "Testing Accuracy:  0.7652\n"
     ]
    }
   ],
   "source": [
    "# Fit and evaluate the model\n",
    "model.fit(X_train, y_train, epochs=50, verbose=False, validation_data=(X_test, y_test), batch_size=10)\n",
    "\n",
    "loss, accuracy = model.evaluate(X_train, y_train, verbose=False)\n",
    "print(\"Training Accuracy: {:.4f}\".format(accuracy))\n",
    "loss, accuracy = model.evaluate(X_test, y_test, verbose=False)\n",
    "print(\"Testing Accuracy:  {:.4f}\".format(accuracy))"
   ]
  },
  {
   "cell_type": "code",
   "execution_count": 39,
   "metadata": {},
   "outputs": [],
   "source": [
    "import os\n",
    "\n",
    "# Save the model\n",
    "cache_dir = os.path.join(\"cache\", \"sentiment_analysis\")  # where to store cache files\n",
    "os.makedirs(cache_dir, exist_ok=True)\n",
    "\n",
    "model_file = \"rnn_model.h5\"  # HDF5 file\n",
    "model.save(os.path.join(cache_dir, model_file))\n",
    "\n",
    "# Later you can load it using keras.models.load_model()\n",
    "#from keras.models import load_model\n",
    "#model = load_model(os.path.join(cache_dir, model_file))"
   ]
  },
  {
   "cell_type": "code",
   "execution_count": 40,
   "metadata": {},
   "outputs": [],
   "source": [
    "! pip freeze > requirements.txt"
   ]
  }
 ],
 "metadata": {
  "kernelspec": {
   "display_name": "Python 3.7.6 64-bit",
   "language": "python",
   "name": "python37664bitf2b8979454eb492e8e911544bb13ab4b"
  },
  "language_info": {
   "codemirror_mode": {
    "name": "ipython",
    "version": 3
   },
   "file_extension": ".py",
   "mimetype": "text/x-python",
   "name": "python",
   "nbconvert_exporter": "python",
   "pygments_lexer": "ipython3",
   "version": "3.7.6"
  }
 },
 "nbformat": 4,
 "nbformat_minor": 4
}
